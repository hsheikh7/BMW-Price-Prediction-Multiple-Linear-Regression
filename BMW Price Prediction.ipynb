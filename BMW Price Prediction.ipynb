{
 "cells": [
  {
   "cell_type": "code",
   "execution_count": 2,
   "id": "13eb3698",
   "metadata": {},
   "outputs": [],
   "source": [
    "# This exercise is for Advanced Python Programming, a course presented in Maktabkhoone Course by Jadi "
   ]
  },
  {
   "cell_type": "code",
   "execution_count": 4,
   "id": "67ffad89",
   "metadata": {},
   "outputs": [
    {
     "name": "stdout",
     "output_type": "stream",
     "text": [
      "Requirement already satisfied: requests in c:\\users\\hassan\\anaconda3\\lib\\site-packages (2.27.1)\n",
      "Requirement already satisfied: idna<4,>=2.5 in c:\\users\\hassan\\anaconda3\\lib\\site-packages (from requests) (3.3)\n",
      "Requirement already satisfied: charset-normalizer~=2.0.0 in c:\\users\\hassan\\anaconda3\\lib\\site-packages (from requests) (2.0.4)\n",
      "Requirement already satisfied: certifi>=2017.4.17 in c:\\users\\hassan\\anaconda3\\lib\\site-packages (from requests) (2021.10.8)\n",
      "Requirement already satisfied: urllib3<1.27,>=1.21.1 in c:\\users\\hassan\\anaconda3\\lib\\site-packages (from requests) (1.26.9)\n",
      "Note: you may need to restart the kernel to use updated packages.\n"
     ]
    }
   ],
   "source": [
    "pip install requests "
   ]
  },
  {
   "cell_type": "code",
   "execution_count": 182,
   "id": "e95ff06c",
   "metadata": {},
   "outputs": [
    {
     "name": "stdout",
     "output_type": "stream",
     "text": [
      "Collecting catboostNote: you may need to restart the kernel to use updated packages.\n",
      "  Downloading catboost-1.2-cp39-cp39-win_amd64.whl (101.0 MB)\n",
      "Requirement already satisfied: pandas>=0.24 in c:\\users\\hassan\\anaconda3\\lib\\site-packages (from catboost) (1.4.2)\n",
      "Requirement already satisfied: graphviz in c:\\users\\hassan\\anaconda3\\lib\\site-packages (from catboost) (0.20.1)\n",
      "Requirement already satisfied: matplotlib in c:\\users\\hassan\\anaconda3\\lib\\site-packages (from catboost) (3.5.1)\n",
      "Requirement already satisfied: scipy in c:\\users\\hassan\\anaconda3\\lib\\site-packages (from catboost) (1.7.3)\n",
      "Requirement already satisfied: six in c:\\users\\hassan\\anaconda3\\lib\\site-packages (from catboost) (1.16.0)\n",
      "Requirement already satisfied: numpy>=1.16.0 in c:\\users\\hassan\\anaconda3\\lib\\site-packages (from catboost) (1.21.5)\n",
      "Requirement already satisfied: plotly in c:\\users\\hassan\\anaconda3\\lib\\site-packages (from catboost) (5.6.0)\n",
      "Requirement already satisfied: python-dateutil>=2.8.1 in c:\\users\\hassan\\anaconda3\\lib\\site-packages (from pandas>=0.24->catboost) (2.8.2)\n",
      "Requirement already satisfied: pytz>=2020.1 in c:\\users\\hassan\\anaconda3\\lib\\site-packages (from pandas>=0.24->catboost) (2021.3)\n",
      "Requirement already satisfied: kiwisolver>=1.0.1 in c:\\users\\hassan\\anaconda3\\lib\\site-packages (from matplotlib->catboost) (1.3.2)\n",
      "Requirement already satisfied: pillow>=6.2.0 in c:\\users\\hassan\\anaconda3\\lib\\site-packages (from matplotlib->catboost) (9.0.1)\n",
      "Requirement already satisfied: fonttools>=4.22.0 in c:\\users\\hassan\\anaconda3\\lib\\site-packages (from matplotlib->catboost) (4.25.0)\n",
      "Requirement already satisfied: pyparsing>=2.2.1 in c:\\users\\hassan\\anaconda3\\lib\\site-packages (from matplotlib->catboost) (3.0.4)\n",
      "Requirement already satisfied: cycler>=0.10 in c:\\users\\hassan\\anaconda3\\lib\\site-packages (from matplotlib->catboost) (0.11.0)\n",
      "Requirement already satisfied: packaging>=20.0 in c:\\users\\hassan\\anaconda3\\lib\\site-packages (from matplotlib->catboost) (21.3)\n",
      "Requirement already satisfied: tenacity>=6.2.0 in c:\\users\\hassan\\anaconda3\\lib\\site-packages (from plotly->catboost) (8.0.1)\n",
      "Installing collected packages: catboost\n",
      "Successfully installed catboost-1.2\n",
      "\n"
     ]
    }
   ],
   "source": [
    "pip install catboost"
   ]
  },
  {
   "cell_type": "markdown",
   "id": "57027789",
   "metadata": {},
   "source": [
    "### import Libraries "
   ]
  },
  {
   "cell_type": "code",
   "execution_count": 1,
   "id": "939dbb8f",
   "metadata": {},
   "outputs": [],
   "source": [
    "#import essential libraries \n",
    "import requests\n",
    "from bs4 import BeautifulSoup\n",
    "import re \n",
    "import pandas as pd \n",
    "\n",
    "import mysql.connector\n",
    "from mysql.connector import Error\n",
    "\n",
    "import numpy as np\n",
    "import matplotlib.pyplot as plt\n",
    "from scipy import stats\n",
    "import seaborn as sns\n",
    "import pylab\n",
    "import warnings"
   ]
  },
  {
   "cell_type": "markdown",
   "id": "b034f1b3",
   "metadata": {},
   "source": [
    "## Fetch the Data from Truecar"
   ]
  },
  {
   "cell_type": "code",
   "execution_count": 103,
   "id": "cca2c5d1",
   "metadata": {},
   "outputs": [],
   "source": [
    "def get_car_data(car_name, url, df): \n",
    "    r = requests.get(url)\n",
    "    print(r)\n",
    "    soup = BeautifulSoup(r.text, 'html.parser')\n",
    "    \n",
    "    car_model_year = soup.find_all('div', {\"data-test\" : \"vehicleCardYearMakeModel\"})\n",
    "    car_price = soup.find_all('div', {\"data-test\" : \"vehicleCardPricingBlockPrice\"})\n",
    "    car_mileage = soup.find_all('div', {\"data-test\" : \"vehicleMileage\"})\n",
    "    \n",
    "    car_year1 = list()\n",
    "    car_model1 = list()\n",
    "    #car_model_year1 = list()\n",
    "    car_price1 = list()\n",
    "    car_mileage1 = list()\n",
    "\n",
    "    for i in range(3, 30): \n",
    "        car_year1.append(car_model_year[i].text[0:4])\n",
    "        car_model1.append(car_model_year[i].text[4:])\n",
    "        #car_model_year1.append(car_model_year[i].text)\n",
    "        a = car_price[i].text[1:]\n",
    "        car_price1.append(int(a.replace(',', '')))\n",
    "        a = car_mileage[i].text.strip()[:-5]\n",
    "        car_mileage1.append(int(a.replace(',', '')))\n",
    "    \n",
    "    df1 = pd.DataFrame(list(zip(car_year1, car_model1, car_price1, car_mileage1)), columns =['Year','Model', 'Price', 'Mileage'])    \n",
    "    df2 = df.append(df1, ignore_index=True)\n",
    "    df2.head()\n",
    "    #df.to_csv(r'C:\\Users\\Hassan\\Desktop\\Django_Course\\used_cars.csv')\n",
    "    \n",
    "    #for i in range(3,30):\n",
    "    #print(i-2 , \"---\", car_model_year[i].text, \"----\", car_price[i].text, \"----\", car_mileage[i].text)\n",
    "        \n",
    "    return df2 "
   ]
  },
  {
   "cell_type": "code",
   "execution_count": 104,
   "id": "baf4c0d7",
   "metadata": {},
   "outputs": [
    {
     "name": "stdout",
     "output_type": "stream",
     "text": [
      "<Response [200]>\n"
     ]
    },
    {
     "name": "stderr",
     "output_type": "stream",
     "text": [
      "C:\\Users\\Hassan\\AppData\\Local\\Temp\\ipykernel_1588\\1402950902.py:26: FutureWarning: The frame.append method is deprecated and will be removed from pandas in a future version. Use pandas.concat instead.\n",
      "  df2 = df.append(df1, ignore_index=True)\n"
     ]
    }
   ],
   "source": [
    "car_name = 'bmw'\n",
    "url = \"https://www.truecar.com/used-cars-for-sale/listings/\" + car_name    \n",
    "df = pd.DataFrame()\n",
    "\n",
    "df = get_car_data(car_name, url, df) \n"
   ]
  },
  {
   "cell_type": "code",
   "execution_count": 105,
   "id": "c457376c",
   "metadata": {},
   "outputs": [
    {
     "data": {
      "text/html": [
       "<div>\n",
       "<style scoped>\n",
       "    .dataframe tbody tr th:only-of-type {\n",
       "        vertical-align: middle;\n",
       "    }\n",
       "\n",
       "    .dataframe tbody tr th {\n",
       "        vertical-align: top;\n",
       "    }\n",
       "\n",
       "    .dataframe thead th {\n",
       "        text-align: right;\n",
       "    }\n",
       "</style>\n",
       "<table border=\"1\" class=\"dataframe\">\n",
       "  <thead>\n",
       "    <tr style=\"text-align: right;\">\n",
       "      <th></th>\n",
       "      <th>Year</th>\n",
       "      <th>Model</th>\n",
       "      <th>Price</th>\n",
       "      <th>Mileage</th>\n",
       "    </tr>\n",
       "  </thead>\n",
       "  <tbody>\n",
       "    <tr>\n",
       "      <th>0</th>\n",
       "      <td>2020</td>\n",
       "      <td>BMW 3 Series</td>\n",
       "      <td>28998</td>\n",
       "      <td>36577</td>\n",
       "    </tr>\n",
       "    <tr>\n",
       "      <th>1</th>\n",
       "      <td>2011</td>\n",
       "      <td>BMW 3 Series</td>\n",
       "      <td>6495</td>\n",
       "      <td>167459</td>\n",
       "    </tr>\n",
       "    <tr>\n",
       "      <th>2</th>\n",
       "      <td>2020</td>\n",
       "      <td>BMW 3 Series</td>\n",
       "      <td>31991</td>\n",
       "      <td>36234</td>\n",
       "    </tr>\n",
       "    <tr>\n",
       "      <th>3</th>\n",
       "      <td>2020</td>\n",
       "      <td>BMW 3 Series</td>\n",
       "      <td>32987</td>\n",
       "      <td>20679</td>\n",
       "    </tr>\n",
       "    <tr>\n",
       "      <th>4</th>\n",
       "      <td>2017</td>\n",
       "      <td>BMW i8</td>\n",
       "      <td>68991</td>\n",
       "      <td>29446</td>\n",
       "    </tr>\n",
       "    <tr>\n",
       "      <th>5</th>\n",
       "      <td>2020</td>\n",
       "      <td>BMW 3 Series</td>\n",
       "      <td>34885</td>\n",
       "      <td>35169</td>\n",
       "    </tr>\n",
       "    <tr>\n",
       "      <th>6</th>\n",
       "      <td>2020</td>\n",
       "      <td>BMW 3 Series</td>\n",
       "      <td>33505</td>\n",
       "      <td>23583</td>\n",
       "    </tr>\n",
       "    <tr>\n",
       "      <th>7</th>\n",
       "      <td>2014</td>\n",
       "      <td>BMW X5</td>\n",
       "      <td>24995</td>\n",
       "      <td>58967</td>\n",
       "    </tr>\n",
       "    <tr>\n",
       "      <th>8</th>\n",
       "      <td>2020</td>\n",
       "      <td>BMW 3 Series</td>\n",
       "      <td>26624</td>\n",
       "      <td>59729</td>\n",
       "    </tr>\n",
       "    <tr>\n",
       "      <th>9</th>\n",
       "      <td>2020</td>\n",
       "      <td>BMW X3</td>\n",
       "      <td>35990</td>\n",
       "      <td>35068</td>\n",
       "    </tr>\n",
       "    <tr>\n",
       "      <th>10</th>\n",
       "      <td>2020</td>\n",
       "      <td>BMW 3 Series</td>\n",
       "      <td>26657</td>\n",
       "      <td>59527</td>\n",
       "    </tr>\n",
       "    <tr>\n",
       "      <th>11</th>\n",
       "      <td>2008</td>\n",
       "      <td>BMW 3 Series</td>\n",
       "      <td>5995</td>\n",
       "      <td>146074</td>\n",
       "    </tr>\n",
       "    <tr>\n",
       "      <th>12</th>\n",
       "      <td>2020</td>\n",
       "      <td>BMW 3 Series</td>\n",
       "      <td>26774</td>\n",
       "      <td>58566</td>\n",
       "    </tr>\n",
       "    <tr>\n",
       "      <th>13</th>\n",
       "      <td>2009</td>\n",
       "      <td>BMW X5</td>\n",
       "      <td>7995</td>\n",
       "      <td>111345</td>\n",
       "    </tr>\n",
       "    <tr>\n",
       "      <th>14</th>\n",
       "      <td>2020</td>\n",
       "      <td>BMW 3 Series</td>\n",
       "      <td>34295</td>\n",
       "      <td>15156</td>\n",
       "    </tr>\n",
       "    <tr>\n",
       "      <th>15</th>\n",
       "      <td>2017</td>\n",
       "      <td>BMW X5</td>\n",
       "      <td>28999</td>\n",
       "      <td>60994</td>\n",
       "    </tr>\n",
       "    <tr>\n",
       "      <th>16</th>\n",
       "      <td>2020</td>\n",
       "      <td>BMW 3 Series</td>\n",
       "      <td>33349</td>\n",
       "      <td>29142</td>\n",
       "    </tr>\n",
       "    <tr>\n",
       "      <th>17</th>\n",
       "      <td>2012</td>\n",
       "      <td>BMW X5 M</td>\n",
       "      <td>13999</td>\n",
       "      <td>159670</td>\n",
       "    </tr>\n",
       "    <tr>\n",
       "      <th>18</th>\n",
       "      <td>2011</td>\n",
       "      <td>BMW 3 Series</td>\n",
       "      <td>7495</td>\n",
       "      <td>106543</td>\n",
       "    </tr>\n",
       "    <tr>\n",
       "      <th>19</th>\n",
       "      <td>2020</td>\n",
       "      <td>BMW 3 Series</td>\n",
       "      <td>28786</td>\n",
       "      <td>35786</td>\n",
       "    </tr>\n",
       "    <tr>\n",
       "      <th>20</th>\n",
       "      <td>2020</td>\n",
       "      <td>BMW X3</td>\n",
       "      <td>36985</td>\n",
       "      <td>32060</td>\n",
       "    </tr>\n",
       "    <tr>\n",
       "      <th>21</th>\n",
       "      <td>2020</td>\n",
       "      <td>BMW X3</td>\n",
       "      <td>37885</td>\n",
       "      <td>28865</td>\n",
       "    </tr>\n",
       "    <tr>\n",
       "      <th>22</th>\n",
       "      <td>2019</td>\n",
       "      <td>BMW X5</td>\n",
       "      <td>37000</td>\n",
       "      <td>47126</td>\n",
       "    </tr>\n",
       "    <tr>\n",
       "      <th>23</th>\n",
       "      <td>2016</td>\n",
       "      <td>BMW 3 Series</td>\n",
       "      <td>14481</td>\n",
       "      <td>80604</td>\n",
       "    </tr>\n",
       "    <tr>\n",
       "      <th>24</th>\n",
       "      <td>2020</td>\n",
       "      <td>BMW 3 Series</td>\n",
       "      <td>29951</td>\n",
       "      <td>60086</td>\n",
       "    </tr>\n",
       "    <tr>\n",
       "      <th>25</th>\n",
       "      <td>2020</td>\n",
       "      <td>BMW 3 Series</td>\n",
       "      <td>34373</td>\n",
       "      <td>18685</td>\n",
       "    </tr>\n",
       "    <tr>\n",
       "      <th>26</th>\n",
       "      <td>2019</td>\n",
       "      <td>BMW 3 Series</td>\n",
       "      <td>30985</td>\n",
       "      <td>31675</td>\n",
       "    </tr>\n",
       "  </tbody>\n",
       "</table>\n",
       "</div>"
      ],
      "text/plain": [
       "    Year          Model  Price  Mileage\n",
       "0   2020   BMW 3 Series  28998    36577\n",
       "1   2011   BMW 3 Series   6495   167459\n",
       "2   2020   BMW 3 Series  31991    36234\n",
       "3   2020   BMW 3 Series  32987    20679\n",
       "4   2017         BMW i8  68991    29446\n",
       "5   2020   BMW 3 Series  34885    35169\n",
       "6   2020   BMW 3 Series  33505    23583\n",
       "7   2014         BMW X5  24995    58967\n",
       "8   2020   BMW 3 Series  26624    59729\n",
       "9   2020         BMW X3  35990    35068\n",
       "10  2020   BMW 3 Series  26657    59527\n",
       "11  2008   BMW 3 Series   5995   146074\n",
       "12  2020   BMW 3 Series  26774    58566\n",
       "13  2009         BMW X5   7995   111345\n",
       "14  2020   BMW 3 Series  34295    15156\n",
       "15  2017         BMW X5  28999    60994\n",
       "16  2020   BMW 3 Series  33349    29142\n",
       "17  2012       BMW X5 M  13999   159670\n",
       "18  2011   BMW 3 Series   7495   106543\n",
       "19  2020   BMW 3 Series  28786    35786\n",
       "20  2020         BMW X3  36985    32060\n",
       "21  2020         BMW X3  37885    28865\n",
       "22  2019         BMW X5  37000    47126\n",
       "23  2016   BMW 3 Series  14481    80604\n",
       "24  2020   BMW 3 Series  29951    60086\n",
       "25  2020   BMW 3 Series  34373    18685\n",
       "26  2019   BMW 3 Series  30985    31675"
      ]
     },
     "execution_count": 105,
     "metadata": {},
     "output_type": "execute_result"
    }
   ],
   "source": [
    "df"
   ]
  },
  {
   "cell_type": "code",
   "execution_count": 106,
   "id": "d4d35d4e",
   "metadata": {},
   "outputs": [
    {
     "data": {
      "text/plain": [
       "Year       object\n",
       "Model      object\n",
       "Price       int64\n",
       "Mileage     int64\n",
       "dtype: object"
      ]
     },
     "execution_count": 106,
     "metadata": {},
     "output_type": "execute_result"
    }
   ],
   "source": [
    "df.dtypes"
   ]
  },
  {
   "cell_type": "code",
   "execution_count": 109,
   "id": "dee3ced9",
   "metadata": {},
   "outputs": [
    {
     "name": "stdout",
     "output_type": "stream",
     "text": [
      "https://www.truecar.com/used-cars-for-sale/listings/bmw/?page=2\n",
      "<Response [200]>\n",
      "https://www.truecar.com/used-cars-for-sale/listings/bmw/?page=3\n",
      "<Response [200]>\n",
      "https://www.truecar.com/used-cars-for-sale/listings/bmw/?page=4\n",
      "<Response [200]>\n"
     ]
    }
   ],
   "source": [
    "#https://www.truecar.com/used-cars-for-sale/listings/bmw/?page=2\n",
    "import warnings\n",
    "warnings.simplefilter(action='ignore', category=FutureWarning)\n",
    "\n",
    "for i in range(2,5): \n",
    "    url = \"https://www.truecar.com/used-cars-for-sale/listings/\" + car_name + \"/?page=\" + str(i) \n",
    "    print(url)\n",
    "    df = get_car_data(car_name, url, df) \n",
    "\n",
    "    "
   ]
  },
  {
   "cell_type": "code",
   "execution_count": 110,
   "id": "11dd4371",
   "metadata": {},
   "outputs": [
    {
     "data": {
      "text/plain": [
       "<bound method NDFrame.tail of      Year          Model  Price  Mileage\n",
       "0    2020   BMW 3 Series  28998    36577\n",
       "1    2011   BMW 3 Series   6495   167459\n",
       "2    2020   BMW 3 Series  31991    36234\n",
       "3    2020   BMW 3 Series  32987    20679\n",
       "4    2017         BMW i8  68991    29446\n",
       "..    ...            ...    ...      ...\n",
       "103  2015         BMW X5  17455   110314\n",
       "104  2021   BMW 3 Series  34287    32951\n",
       "105  2020   BMW 5 Series  39389     8457\n",
       "106  2021   BMW 3 Series  31998    41588\n",
       "107  2020   BMW 3 Series  29666    44209\n",
       "\n",
       "[108 rows x 4 columns]>"
      ]
     },
     "execution_count": 110,
     "metadata": {},
     "output_type": "execute_result"
    }
   ],
   "source": [
    "df.tail"
   ]
  },
  {
   "cell_type": "markdown",
   "id": "89151242",
   "metadata": {},
   "source": [
    "## Save the Data in DB "
   ]
  },
  {
   "cell_type": "markdown",
   "id": "33c72d78",
   "metadata": {},
   "source": [
    "### Check Availability of MySQL - Connection Check "
   ]
  },
  {
   "cell_type": "code",
   "execution_count": 111,
   "id": "4a8aac8e",
   "metadata": {},
   "outputs": [
    {
     "name": "stdout",
     "output_type": "stream",
     "text": [
      "Connected to MySQL Server version  5.5.5-10.1.37-MariaDB\n",
      "You're connected to database:  ('car_data',)\n",
      "MySQL connection is closed\n"
     ]
    }
   ],
   "source": [
    "try:\n",
    "    connection = mysql.connector.connect(host='localhost', database='car_data', user='admin', password='')\n",
    "    if connection.is_connected():\n",
    "        db_Info = connection.get_server_info()\n",
    "        print(\"Connected to MySQL Server version \", db_Info)\n",
    "        cursor = connection.cursor()\n",
    "        cursor.execute(\"select database();\")\n",
    "        record = cursor.fetchone()\n",
    "        print(\"You're connected to database: \", record)\n",
    "\n",
    "except Error as e:\n",
    "    print(\"Error while connecting to MySQL\", e)\n",
    "finally:\n",
    "    if connection.is_connected():\n",
    "        cursor.close()\n",
    "        connection.close()\n",
    "        print(\"MySQL connection is closed\")\n"
   ]
  },
  {
   "cell_type": "markdown",
   "id": "57cbb2c1",
   "metadata": {},
   "source": [
    "### Create a New Database for BMW Data "
   ]
  },
  {
   "cell_type": "code",
   "execution_count": 98,
   "id": "3d0268f9",
   "metadata": {},
   "outputs": [
    {
     "name": "stdout",
     "output_type": "stream",
     "text": [
      "Failed to create table in MySQL: 1050 (42S01): Table 'bmw' already exists\n",
      "MySQL connection is closed\n"
     ]
    }
   ],
   "source": [
    "try:\n",
    "    connection = mysql.connector.connect(host='localhost', database='car_data', user='admin',password='')\n",
    "\n",
    "    mySql_Create_Table_Query = \"\"\"CREATE TABLE BMW ( \n",
    "                             Id int(11) NOT NULL,\n",
    "                             Year varchar(250) NOT NULL,\n",
    "                             Model varchar(250) NOT NULL,\n",
    "                             Price float NOT NULL,\n",
    "                             Milage float NOT NULL,\n",
    "                             PRIMARY KEY (Id)) \"\"\"\n",
    "\n",
    "    cursor = connection.cursor() \n",
    "    result = cursor.execute(mySql_Create_Table_Query)\n",
    "    print(\"BMW Table created successfully \")\n",
    "    \n",
    "    #cursor.execute('INSERT INTO bmw VALUES (\\'Amir\\',\\'Far\\',\\'Niki\\') ')\n",
    "    connection.commit()\n",
    "    cursor.close()\n",
    "\n",
    "except mysql.connector.Error as error:\n",
    "    print(\"Failed to create table in MySQL: {}\".format(error))\n",
    "finally:\n",
    "    if connection.is_connected():\n",
    "        cursor.close()\n",
    "        connection.close()\n",
    "        print(\"MySQL connection is closed\")\n"
   ]
  },
  {
   "cell_type": "markdown",
   "id": "9448727b",
   "metadata": {},
   "source": [
    "### Insert Data into the BMW DB "
   ]
  },
  {
   "cell_type": "code",
   "execution_count": 112,
   "id": "b93b4273",
   "metadata": {},
   "outputs": [
    {
     "name": "stdout",
     "output_type": "stream",
     "text": [
      "Connected to DB\n",
      "Data entered successfully.\n"
     ]
    }
   ],
   "source": [
    "connection = mysql.connector.connect(host='localhost', database='car_data', user='admin', password='')\n",
    "print(\"Connected to DB\")\n",
    "\n",
    "cursor = connection.cursor() \n",
    "\n",
    "for i in range(0,107): \n",
    "    sql = \"INSERT INTO bmw (id, year, model, price, milage) VALUES (%s, %s, %s, %s, %s)\"\n",
    "    val = (str(i), df[\"Year\"][i], df[\"Model\"][i], int(df[\"Price\"][i]), int(df[\"Mileage\"][i]) )          \n",
    "    cursor.execute(sql, val)\n",
    "\n",
    "connection.commit()\n",
    "\n",
    "cursor.close()\n",
    "connection.close()\n",
    "print(\"Data entered successfully.\")"
   ]
  },
  {
   "cell_type": "markdown",
   "id": "0962da5f",
   "metadata": {},
   "source": [
    "## Basic Understanding of Data"
   ]
  },
  {
   "cell_type": "code",
   "execution_count": null,
   "id": "a1de4e4f",
   "metadata": {},
   "outputs": [],
   "source": []
  },
  {
   "cell_type": "code",
   "execution_count": 116,
   "id": "ac0d58b4",
   "metadata": {},
   "outputs": [
    {
     "data": {
      "text/plain": [
       "(108, 4)"
      ]
     },
     "execution_count": 116,
     "metadata": {},
     "output_type": "execute_result"
    }
   ],
   "source": [
    "df.shape"
   ]
  },
  {
   "cell_type": "code",
   "execution_count": 115,
   "id": "d9c91f69",
   "metadata": {},
   "outputs": [
    {
     "name": "stdout",
     "output_type": "stream",
     "text": [
      "<class 'pandas.core.frame.DataFrame'>\n",
      "RangeIndex: 108 entries, 0 to 107\n",
      "Data columns (total 4 columns):\n",
      " #   Column   Non-Null Count  Dtype \n",
      "---  ------   --------------  ----- \n",
      " 0   Year     108 non-null    object\n",
      " 1   Model    108 non-null    object\n",
      " 2   Price    108 non-null    int64 \n",
      " 3   Mileage  108 non-null    int64 \n",
      "dtypes: int64(2), object(2)\n",
      "memory usage: 3.5+ KB\n"
     ]
    }
   ],
   "source": [
    "df.info()"
   ]
  },
  {
   "cell_type": "code",
   "execution_count": 114,
   "id": "c4c68508",
   "metadata": {},
   "outputs": [
    {
     "data": {
      "text/html": [
       "<div>\n",
       "<style scoped>\n",
       "    .dataframe tbody tr th:only-of-type {\n",
       "        vertical-align: middle;\n",
       "    }\n",
       "\n",
       "    .dataframe tbody tr th {\n",
       "        vertical-align: top;\n",
       "    }\n",
       "\n",
       "    .dataframe thead th {\n",
       "        text-align: right;\n",
       "    }\n",
       "</style>\n",
       "<table border=\"1\" class=\"dataframe\">\n",
       "  <thead>\n",
       "    <tr style=\"text-align: right;\">\n",
       "      <th></th>\n",
       "      <th>Price</th>\n",
       "      <th>Mileage</th>\n",
       "    </tr>\n",
       "  </thead>\n",
       "  <tbody>\n",
       "    <tr>\n",
       "      <th>count</th>\n",
       "      <td>108.000000</td>\n",
       "      <td>108.000000</td>\n",
       "    </tr>\n",
       "    <tr>\n",
       "      <th>mean</th>\n",
       "      <td>29356.527778</td>\n",
       "      <td>60178.611111</td>\n",
       "    </tr>\n",
       "    <tr>\n",
       "      <th>std</th>\n",
       "      <td>15343.418342</td>\n",
       "      <td>37543.722977</td>\n",
       "    </tr>\n",
       "    <tr>\n",
       "      <th>min</th>\n",
       "      <td>5995.000000</td>\n",
       "      <td>2509.000000</td>\n",
       "    </tr>\n",
       "    <tr>\n",
       "      <th>25%</th>\n",
       "      <td>17857.000000</td>\n",
       "      <td>32931.250000</td>\n",
       "    </tr>\n",
       "    <tr>\n",
       "      <th>50%</th>\n",
       "      <td>29163.500000</td>\n",
       "      <td>50478.500000</td>\n",
       "    </tr>\n",
       "    <tr>\n",
       "      <th>75%</th>\n",
       "      <td>35911.250000</td>\n",
       "      <td>78843.750000</td>\n",
       "    </tr>\n",
       "    <tr>\n",
       "      <th>max</th>\n",
       "      <td>94992.000000</td>\n",
       "      <td>167459.000000</td>\n",
       "    </tr>\n",
       "  </tbody>\n",
       "</table>\n",
       "</div>"
      ],
      "text/plain": [
       "              Price        Mileage\n",
       "count    108.000000     108.000000\n",
       "mean   29356.527778   60178.611111\n",
       "std    15343.418342   37543.722977\n",
       "min     5995.000000    2509.000000\n",
       "25%    17857.000000   32931.250000\n",
       "50%    29163.500000   50478.500000\n",
       "75%    35911.250000   78843.750000\n",
       "max    94992.000000  167459.000000"
      ]
     },
     "execution_count": 114,
     "metadata": {},
     "output_type": "execute_result"
    }
   ],
   "source": [
    "df.describe()\n"
   ]
  },
  {
   "cell_type": "code",
   "execution_count": 113,
   "id": "38d8e8a6",
   "metadata": {},
   "outputs": [
    {
     "data": {
      "text/html": [
       "<div>\n",
       "<style scoped>\n",
       "    .dataframe tbody tr th:only-of-type {\n",
       "        vertical-align: middle;\n",
       "    }\n",
       "\n",
       "    .dataframe tbody tr th {\n",
       "        vertical-align: top;\n",
       "    }\n",
       "\n",
       "    .dataframe thead th {\n",
       "        text-align: right;\n",
       "    }\n",
       "</style>\n",
       "<table border=\"1\" class=\"dataframe\">\n",
       "  <thead>\n",
       "    <tr style=\"text-align: right;\">\n",
       "      <th></th>\n",
       "      <th>Total No. of Missing Values</th>\n",
       "    </tr>\n",
       "  </thead>\n",
       "  <tbody>\n",
       "    <tr>\n",
       "      <th>Year</th>\n",
       "      <td>0</td>\n",
       "    </tr>\n",
       "    <tr>\n",
       "      <th>Model</th>\n",
       "      <td>0</td>\n",
       "    </tr>\n",
       "    <tr>\n",
       "      <th>Price</th>\n",
       "      <td>0</td>\n",
       "    </tr>\n",
       "    <tr>\n",
       "      <th>Mileage</th>\n",
       "      <td>0</td>\n",
       "    </tr>\n",
       "  </tbody>\n",
       "</table>\n",
       "</div>"
      ],
      "text/plain": [
       "         Total No. of Missing Values\n",
       "Year                               0\n",
       "Model                              0\n",
       "Price                              0\n",
       "Mileage                            0"
      ]
     },
     "execution_count": 113,
     "metadata": {},
     "output_type": "execute_result"
    }
   ],
   "source": [
    "df.isnull().sum().to_frame().rename(columns={0:\"Total No. of Missing Values\"})"
   ]
  },
  {
   "cell_type": "code",
   "execution_count": 117,
   "id": "f0324380",
   "metadata": {},
   "outputs": [
    {
     "name": "stdout",
     "output_type": "stream",
     "text": [
      "Duplicate Values = 0\n"
     ]
    }
   ],
   "source": [
    "print(\"Duplicate Values =\",df.duplicated().sum())"
   ]
  },
  {
   "cell_type": "code",
   "execution_count": 118,
   "id": "9e97c3c0",
   "metadata": {},
   "outputs": [
    {
     "data": {
      "text/html": [
       "<div>\n",
       "<style scoped>\n",
       "    .dataframe tbody tr th:only-of-type {\n",
       "        vertical-align: middle;\n",
       "    }\n",
       "\n",
       "    .dataframe tbody tr th {\n",
       "        vertical-align: top;\n",
       "    }\n",
       "\n",
       "    .dataframe thead th {\n",
       "        text-align: right;\n",
       "    }\n",
       "</style>\n",
       "<table border=\"1\" class=\"dataframe\">\n",
       "  <thead>\n",
       "    <tr style=\"text-align: right;\">\n",
       "      <th></th>\n",
       "      <th>Year</th>\n",
       "      <th>Model</th>\n",
       "    </tr>\n",
       "  </thead>\n",
       "  <tbody>\n",
       "    <tr>\n",
       "      <th>0</th>\n",
       "      <td>2020</td>\n",
       "      <td>BMW 3 Series</td>\n",
       "    </tr>\n",
       "    <tr>\n",
       "      <th>1</th>\n",
       "      <td>2011</td>\n",
       "      <td>BMW 3 Series</td>\n",
       "    </tr>\n",
       "    <tr>\n",
       "      <th>2</th>\n",
       "      <td>2020</td>\n",
       "      <td>BMW 3 Series</td>\n",
       "    </tr>\n",
       "    <tr>\n",
       "      <th>3</th>\n",
       "      <td>2020</td>\n",
       "      <td>BMW 3 Series</td>\n",
       "    </tr>\n",
       "    <tr>\n",
       "      <th>4</th>\n",
       "      <td>2017</td>\n",
       "      <td>BMW i8</td>\n",
       "    </tr>\n",
       "  </tbody>\n",
       "</table>\n",
       "</div>"
      ],
      "text/plain": [
       "   Year          Model\n",
       "0  2020   BMW 3 Series\n",
       "1  2011   BMW 3 Series\n",
       "2  2020   BMW 3 Series\n",
       "3  2020   BMW 3 Series\n",
       "4  2017         BMW i8"
      ]
     },
     "execution_count": 118,
     "metadata": {},
     "output_type": "execute_result"
    }
   ],
   "source": [
    "df.select_dtypes(include=\"object\").head()"
   ]
  },
  {
   "cell_type": "code",
   "execution_count": 121,
   "id": "0dd0de5a",
   "metadata": {},
   "outputs": [
    {
     "name": "stdout",
     "output_type": "stream",
     "text": [
      "[' BMW 3 Series' ' BMW i8' ' BMW X5' ' BMW X3' ' BMW X5 M' ' BMW 5 Series'\n",
      " ' BMW i3' ' BMW iX' ' BMW 8 Series' ' BMW X7' ' BMW 7 Series' ' BMW X1'\n",
      " ' BMW Z3' ' BMW M6' ' BMW X6 M']\n"
     ]
    },
    {
     "data": {
      "text/plain": [
       "15"
      ]
     },
     "execution_count": 121,
     "metadata": {},
     "output_type": "execute_result"
    }
   ],
   "source": [
    "print(df[\"Model\"].unique()) \n",
    "len(df[\"Model\"].unique()) "
   ]
  },
  {
   "cell_type": "code",
   "execution_count": 122,
   "id": "728a80bb",
   "metadata": {},
   "outputs": [
    {
     "name": "stdout",
     "output_type": "stream",
     "text": [
      "['2020' '2011' '2017' '2014' '2008' '2009' '2012' '2019' '2016' '2013'\n",
      " '2021' '2018' '2022' '2015' '1997']\n"
     ]
    },
    {
     "data": {
      "text/plain": [
       "15"
      ]
     },
     "execution_count": 122,
     "metadata": {},
     "output_type": "execute_result"
    }
   ],
   "source": [
    "print(df[\"Year\"].unique()) \n",
    "len(df[\"Year\"].unique()) "
   ]
  },
  {
   "cell_type": "markdown",
   "id": "49840b2f",
   "metadata": {},
   "source": [
    "## Data Cleaning "
   ]
  },
  {
   "cell_type": "markdown",
   "id": "f6567cda",
   "metadata": {},
   "source": [
    "باید مدل‌ها را درست کنم. "
   ]
  },
  {
   "cell_type": "code",
   "execution_count": null,
   "id": "115b87f4",
   "metadata": {},
   "outputs": [],
   "source": []
  },
  {
   "cell_type": "markdown",
   "id": "0d99729c",
   "metadata": {},
   "source": [
    "## Exploratory Data Analysis (EDA)"
   ]
  },
  {
   "cell_type": "code",
   "execution_count": 127,
   "id": "0ccf3d02",
   "metadata": {},
   "outputs": [
    {
     "data": {
      "image/png": "[encoded data removed]",
      "text/plain": [
       "<Figure size 1080x432 with 2 Axes>"
      ]
     },
     "metadata": {
      "needs_background": "light"
     },
     "output_type": "display_data"
    }
   ],
   "source": [
    "plt.figure(figsize=(15,6))\n",
    "plt.subplot(1,2,1)\n",
    "sns.distplot(df[\"Price\"],color=\"red\",kde=True)\n",
    "plt.title(\"Car Price Distribution\",fontweight=\"black\",pad=20,fontsize=20)\n",
    "\n",
    "plt.subplot(1,2,2)\n",
    "sns.boxplot(y=df[\"Price\"],palette=\"Set2\")\n",
    "plt.title(\"Car Price Spread\",fontweight=\"black\",pad=20,fontsize=20)\n",
    "plt.tight_layout()\n",
    "plt.show()"
   ]
  },
  {
   "cell_type": "code",
   "execution_count": 128,
   "id": "57af7abd",
   "metadata": {},
   "outputs": [
    {
     "data": {
      "image/png": "[encoded data removed]",
      "text/plain": [
       "<Figure size 1008x432 with 1 Axes>"
      ]
     },
     "metadata": {
      "needs_background": "light"
     },
     "output_type": "display_data"
    }
   ],
   "source": [
    "plt.figure(figsize=(14,6))\n",
    "counts = df[\"Model\"].value_counts()\n",
    "sns.barplot(x=counts.index, y=counts.values)\n",
    "plt.xlabel(\"Car Model\")\n",
    "plt.ylabel(\"Total No. of cars sold\")\n",
    "plt.title(\"Total Cars produced by Companies\", pad=20, fontweight=\"black\", fontsize=20)\n",
    "plt.xticks(rotation=90)\n",
    "plt.show()"
   ]
  },
  {
   "cell_type": "markdown",
   "id": "b0c37666",
   "metadata": {},
   "source": [
    "### Visualizing Car Company w.r.t Price"
   ]
  },
  {
   "cell_type": "code",
   "execution_count": 131,
   "id": "15d19c7b",
   "metadata": {},
   "outputs": [
    {
     "data": {
      "image/png": "[encoded data removed]",
      "text/plain": [
       "<Figure size 1080x432 with 2 Axes>"
      ]
     },
     "metadata": {
      "needs_background": "light"
     },
     "output_type": "display_data"
    }
   ],
   "source": [
    "plt.figure(figsize=(15,6))\n",
    "\n",
    "plt.subplot(1,2,1)\n",
    "sns.boxplot(x=\"Model\",y=\"Price\",data=df)\n",
    "plt.xticks(rotation=90)\n",
    "plt.title(\"Model vs Price\", pad=10, fontweight=\"black\", fontsize=20)\n",
    "\n",
    "plt.subplot(1,2,2)\n",
    "x = pd.DataFrame(df.groupby(\"Model\")[\"Price\"].mean().sort_values(ascending=False))\n",
    "sns.barplot(x=x.index,y=\"Price\",data=x) \n",
    "plt.xticks(rotation=90)\n",
    "plt.title(\"Model vs Average Price\", pad=10, fontweight=\"black\", fontsize=20)\n",
    "plt.tight_layout()\n",
    "plt.show()"
   ]
  },
  {
   "cell_type": "code",
   "execution_count": null,
   "id": "08ce7022",
   "metadata": {},
   "outputs": [],
   "source": [
    "Visualizing \"WheelBase\" & \"Curbweight\" Features"
   ]
  },
  {
   "cell_type": "code",
   "execution_count": 134,
   "id": "2493d77c",
   "metadata": {},
   "outputs": [],
   "source": [
    "def scatter_plot(cols):\n",
    "    x=1\n",
    "    plt.figure(figsize=(15,6))\n",
    "    for col in cols:\n",
    "        plt.subplot(1,2,x)\n",
    "        sns.scatterplot(x=col,y=\"Price\",data=df,color=\"blue\")\n",
    "        plt.title(f\"{col} vs Price\",fontweight=\"black\",fontsize=20,pad=10)\n",
    "        plt.tight_layout()\n",
    "        x+=1"
   ]
  },
  {
   "cell_type": "code",
   "execution_count": 135,
   "id": "456d156d",
   "metadata": {},
   "outputs": [
    {
     "data": {
      "image/png": "[encoded data removed]",
      "text/plain": [
       "<Figure size 1080x432 with 2 Axes>"
      ]
     },
     "metadata": {
      "needs_background": "light"
     },
     "output_type": "display_data"
    }
   ],
   "source": [
    "scatter_plot([\"Mileage\",\"Price\"])"
   ]
  },
  {
   "cell_type": "markdown",
   "id": "d5feaff6",
   "metadata": {},
   "source": [
    "## Data Preprocessiong"
   ]
  },
  {
   "cell_type": "code",
   "execution_count": null,
   "id": "4d10bb50",
   "metadata": {},
   "outputs": [],
   "source": [
    "#1. Creating new DataFrame with all the useful Features."
   ]
  },
  {
   "cell_type": "code",
   "execution_count": 170,
   "id": "4e9bbc0d",
   "metadata": {},
   "outputs": [],
   "source": [
    "new_df = df[['Price','Mileage']]"
   ]
  },
  {
   "cell_type": "code",
   "execution_count": null,
   "id": "29bc9a28",
   "metadata": {},
   "outputs": [],
   "source": [
    "#2.Creating Dummies Variables for all the Categorical Features."
   ]
  },
  {
   "cell_type": "code",
   "execution_count": 171,
   "id": "d0e22364",
   "metadata": {},
   "outputs": [],
   "source": [
    "# 3. Feature Scaling of Numerical Data.\n",
    "from sklearn.preprocessing import StandardScaler\n",
    "scaler = StandardScaler()\n",
    "\n",
    "num_cols = ['Price','Mileage']\n",
    "\n",
    "new_df[num_cols] = scaler.fit_transform(new_df[num_cols])"
   ]
  },
  {
   "cell_type": "code",
   "execution_count": 172,
   "id": "08f6eca1",
   "metadata": {},
   "outputs": [
    {
     "data": {
      "text/html": [
       "<div>\n",
       "<style scoped>\n",
       "    .dataframe tbody tr th:only-of-type {\n",
       "        vertical-align: middle;\n",
       "    }\n",
       "\n",
       "    .dataframe tbody tr th {\n",
       "        vertical-align: top;\n",
       "    }\n",
       "\n",
       "    .dataframe thead th {\n",
       "        text-align: right;\n",
       "    }\n",
       "</style>\n",
       "<table border=\"1\" class=\"dataframe\">\n",
       "  <thead>\n",
       "    <tr style=\"text-align: right;\">\n",
       "      <th></th>\n",
       "      <th>Price</th>\n",
       "      <th>Mileage</th>\n",
       "    </tr>\n",
       "  </thead>\n",
       "  <tbody>\n",
       "    <tr>\n",
       "      <th>0</th>\n",
       "      <td>-0.023476</td>\n",
       "      <td>-0.631574</td>\n",
       "    </tr>\n",
       "    <tr>\n",
       "      <th>1</th>\n",
       "      <td>-1.496936</td>\n",
       "      <td>2.870800</td>\n",
       "    </tr>\n",
       "    <tr>\n",
       "      <th>2</th>\n",
       "      <td>0.172501</td>\n",
       "      <td>-0.640753</td>\n",
       "    </tr>\n",
       "    <tr>\n",
       "      <th>3</th>\n",
       "      <td>0.237717</td>\n",
       "      <td>-1.057001</td>\n",
       "    </tr>\n",
       "    <tr>\n",
       "      <th>4</th>\n",
       "      <td>2.595201</td>\n",
       "      <td>-0.822398</td>\n",
       "    </tr>\n",
       "  </tbody>\n",
       "</table>\n",
       "</div>"
      ],
      "text/plain": [
       "      Price   Mileage\n",
       "0 -0.023476 -0.631574\n",
       "1 -1.496936  2.870800\n",
       "2  0.172501 -0.640753\n",
       "3  0.237717 -1.057001\n",
       "4  2.595201 -0.822398"
      ]
     },
     "execution_count": 172,
     "metadata": {},
     "output_type": "execute_result"
    }
   ],
   "source": [
    "new_df.head()"
   ]
  },
  {
   "cell_type": "code",
   "execution_count": null,
   "id": "61c21041",
   "metadata": {},
   "outputs": [],
   "source": []
  },
  {
   "cell_type": "markdown",
   "id": "99e38fb4",
   "metadata": {},
   "source": [
    "### Selecting Features & Labels for Model Training & Testing"
   ]
  },
  {
   "cell_type": "code",
   "execution_count": 173,
   "id": "675d38c7",
   "metadata": {},
   "outputs": [],
   "source": [
    "x = new_df.drop(columns=[\"Price\"])\n",
    "y = new_df[\"Price\"]"
   ]
  },
  {
   "cell_type": "code",
   "execution_count": 141,
   "id": "b516a90d",
   "metadata": {},
   "outputs": [
    {
     "ename": "ModuleNotFoundError",
     "evalue": "No module named 'catboost'",
     "output_type": "error",
     "traceback": [
      "\u001b[1;31m---------------------------------------------------------------------------\u001b[0m",
      "\u001b[1;31mModuleNotFoundError\u001b[0m                       Traceback (most recent call last)",
      "Input \u001b[1;32mIn [141]\u001b[0m, in \u001b[0;36m<cell line: 11>\u001b[1;34m()\u001b[0m\n\u001b[0;32m      9\u001b[0m \u001b[38;5;28;01mfrom\u001b[39;00m \u001b[38;5;21;01msklearn\u001b[39;00m\u001b[38;5;21;01m.\u001b[39;00m\u001b[38;5;21;01mensemble\u001b[39;00m \u001b[38;5;28;01mimport\u001b[39;00m RandomForestRegressor, GradientBoostingRegressor, AdaBoostRegressor\n\u001b[0;32m     10\u001b[0m \u001b[38;5;28;01mfrom\u001b[39;00m \u001b[38;5;21;01mxgboost\u001b[39;00m \u001b[38;5;28;01mimport\u001b[39;00m XGBRegressor\n\u001b[1;32m---> 11\u001b[0m \u001b[38;5;28;01mfrom\u001b[39;00m \u001b[38;5;21;01mcatboost\u001b[39;00m \u001b[38;5;28;01mimport\u001b[39;00m CatBoostRegressor\n\u001b[0;32m     12\u001b[0m \u001b[38;5;28;01mfrom\u001b[39;00m \u001b[38;5;21;01mlightgbm\u001b[39;00m \u001b[38;5;28;01mimport\u001b[39;00m LGBMRegressor\n\u001b[0;32m     15\u001b[0m \u001b[38;5;28;01mfrom\u001b[39;00m \u001b[38;5;21;01msklearn\u001b[39;00m\u001b[38;5;21;01m.\u001b[39;00m\u001b[38;5;21;01mmodel_selection\u001b[39;00m \u001b[38;5;28;01mimport\u001b[39;00m train_test_split\n",
      "\u001b[1;31mModuleNotFoundError\u001b[0m: No module named 'catboost'"
     ]
    }
   ],
   "source": [
    "warnings.filterwarnings(\"ignore\")\n",
    "%matplotlib inline\n",
    "sns.set(style=\"darkgrid\",font_scale=1.5)\n",
    "pd.set_option(\"display.max.columns\",None)\n",
    "pd.set_option(\"display.max.rows\",None)\n",
    "\n",
    "from sklearn.linear_model import LinearRegression\n",
    "from sklearn.tree import DecisionTreeRegressor\n",
    "from sklearn.ensemble import RandomForestRegressor, GradientBoostingRegressor, AdaBoostRegressor\n",
    "from xgboost import XGBRegressor\n",
    "from catboost import CatBoostRegressor\n",
    "from lightgbm import LGBMRegressor\n",
    "\n",
    "\n",
    "from sklearn.model_selection import train_test_split\n",
    "from sklearn.metrics import r2_score\n"
   ]
  },
  {
   "cell_type": "markdown",
   "id": "5c910b32",
   "metadata": {},
   "source": [
    "### Splitting Data for Model Traning & Testing."
   ]
  },
  {
   "cell_type": "code",
   "execution_count": 174,
   "id": "a2e0251c",
   "metadata": {},
   "outputs": [],
   "source": [
    "from sklearn.model_selection import train_test_split\n",
    "\n",
    "x_train,x_test,y_train,y_test=train_test_split(x,y,test_size=0.2,random_state=42)"
   ]
  },
  {
   "cell_type": "code",
   "execution_count": 175,
   "id": "1b1731eb",
   "metadata": {},
   "outputs": [
    {
     "name": "stdout",
     "output_type": "stream",
     "text": [
      "x_train - >   (86, 1)\n",
      "x_test - >   (22, 1)\n",
      "y_train - >   (86,)\n",
      "y_test - >   (22,)\n"
     ]
    }
   ],
   "source": [
    "print(\"x_train - >  \",x_train.shape)\n",
    "print(\"x_test - >  \",x_test.shape)\n",
    "print(\"y_train - >  \",y_train.shape)\n",
    "print(\"y_test - >  \",y_test.shape)"
   ]
  },
  {
   "cell_type": "markdown",
   "id": "96ab947f",
   "metadata": {},
   "source": [
    "## Model Building"
   ]
  },
  {
   "cell_type": "code",
   "execution_count": 176,
   "id": "9e260a11",
   "metadata": {},
   "outputs": [],
   "source": [
    "training_score = []\n",
    "testing_score = []"
   ]
  },
  {
   "cell_type": "code",
   "execution_count": 177,
   "id": "16f9a563",
   "metadata": {},
   "outputs": [],
   "source": [
    "from sklearn.metrics import r2_score\n",
    "def model_prediction(model):\n",
    "    model.fit(x_train,y_train)\n",
    "    x_train_pred = model.predict(x_train)\n",
    "    x_test_pred = model.predict(x_test)\n",
    "    a = r2_score(y_train,x_train_pred)*100\n",
    "    b = r2_score(y_test,x_test_pred)*100\n",
    "    training_score.append(a)\n",
    "    testing_score.append(b)\n",
    "    \n",
    "    print(f\"r2_Score of {model} model on Training Data is:\",a)\n",
    "    print(f\"r2_Score of {model} model on Testing Data is:\",b)"
   ]
  },
  {
   "cell_type": "markdown",
   "id": "4eb62624",
   "metadata": {},
   "source": [
    "### Linear-Regression Model"
   ]
  },
  {
   "cell_type": "code",
   "execution_count": 163,
   "id": "53d2b920",
   "metadata": {},
   "outputs": [
    {
     "name": "stdout",
     "output_type": "stream",
     "text": [
      "r2_Score of LinearRegression() model on Training Data is: 61.53803924819792\n",
      "r2_Score of LinearRegression() model on Testing Data is: 56.906150898767024\n"
     ]
    }
   ],
   "source": [
    "model_prediction(LinearRegression())\n"
   ]
  },
  {
   "cell_type": "markdown",
   "id": "038a733c",
   "metadata": {},
   "source": [
    "### Decision-Tree-Regressor Model"
   ]
  },
  {
   "cell_type": "code",
   "execution_count": 164,
   "id": "5800b56e",
   "metadata": {},
   "outputs": [
    {
     "name": "stdout",
     "output_type": "stream",
     "text": [
      "r2_Score of DecisionTreeRegressor() model on Training Data is: 100.0\n",
      "r2_Score of DecisionTreeRegressor() model on Testing Data is: 26.388485295911924\n"
     ]
    }
   ],
   "source": [
    "model_prediction(DecisionTreeRegressor())\n"
   ]
  },
  {
   "cell_type": "markdown",
   "id": "5239ccbe",
   "metadata": {},
   "source": [
    "### Random-Forest-Regressor Model"
   ]
  },
  {
   "cell_type": "code",
   "execution_count": 165,
   "id": "c4c0a911",
   "metadata": {},
   "outputs": [
    {
     "name": "stdout",
     "output_type": "stream",
     "text": [
      "r2_Score of RandomForestRegressor() model on Training Data is: 96.52558592100247\n",
      "r2_Score of RandomForestRegressor() model on Testing Data is: 40.885493937440664\n"
     ]
    }
   ],
   "source": [
    "model_prediction(RandomForestRegressor())"
   ]
  },
  {
   "cell_type": "code",
   "execution_count": 166,
   "id": "3874fec5",
   "metadata": {},
   "outputs": [
    {
     "name": "stdout",
     "output_type": "stream",
     "text": [
      "r2_Score of AdaBoostRegressor() model on Training Data is: 83.86454572479998\n",
      "r2_Score of AdaBoostRegressor() model on Testing Data is: 38.29058693682882\n"
     ]
    }
   ],
   "source": [
    "#Ada-Boost-Regressor Model\n",
    "model_prediction(AdaBoostRegressor())\n"
   ]
  },
  {
   "cell_type": "code",
   "execution_count": 167,
   "id": "afa48dd3",
   "metadata": {},
   "outputs": [
    {
     "name": "stdout",
     "output_type": "stream",
     "text": [
      "r2_Score of GradientBoostingRegressor() model on Training Data is: 98.70595390414887\n",
      "r2_Score of GradientBoostingRegressor() model on Testing Data is: 25.49594768810489\n"
     ]
    }
   ],
   "source": [
    "#Gradient-Boosting-Regressor Model\n",
    "model_prediction(GradientBoostingRegressor())"
   ]
  },
  {
   "cell_type": "code",
   "execution_count": 178,
   "id": "88c88226",
   "metadata": {},
   "outputs": [
    {
     "name": "stdout",
     "output_type": "stream",
     "text": [
      "r2_Score of LGBMRegressor() model on Training Data is: 58.73972576820839\n",
      "r2_Score of LGBMRegressor() model on Testing Data is: 54.48524905579477\n"
     ]
    }
   ],
   "source": [
    "#LGMB Regressor Model\n",
    "from lightgbm import LGBMRegressor\n",
    "\n",
    "model_prediction(LGBMRegressor())"
   ]
  },
  {
   "cell_type": "code",
   "execution_count": 179,
   "id": "4114f785",
   "metadata": {},
   "outputs": [
    {
     "name": "stdout",
     "output_type": "stream",
     "text": [
      "r2_Score of XGBRegressor(base_score=0.5, booster='gbtree', callbacks=None,\n",
      "             colsample_bylevel=1, colsample_bynode=1, colsample_bytree=1,\n",
      "             early_stopping_rounds=None, enable_categorical=False,\n",
      "             eval_metric=None, feature_types=None, gamma=0, gpu_id=-1,\n",
      "             grow_policy='depthwise', importance_type=None,\n",
      "             interaction_constraints='', learning_rate=0.300000012, max_bin=256,\n",
      "             max_cat_threshold=64, max_cat_to_onehot=4, max_delta_step=0,\n",
      "             max_depth=6, max_leaves=0, min_child_weight=1, missing=nan,\n",
      "             monotone_constraints='()', n_estimators=100, n_jobs=0,\n",
      "             num_parallel_tree=1, predictor='auto', random_state=0, ...) model on Training Data is: 99.98770281350177\n",
      "r2_Score of XGBRegressor(base_score=0.5, booster='gbtree', callbacks=None,\n",
      "             colsample_bylevel=1, colsample_bynode=1, colsample_bytree=1,\n",
      "             early_stopping_rounds=None, enable_categorical=False,\n",
      "             eval_metric=None, feature_types=None, gamma=0, gpu_id=-1,\n",
      "             grow_policy='depthwise', importance_type=None,\n",
      "             interaction_constraints='', learning_rate=0.300000012, max_bin=256,\n",
      "             max_cat_threshold=64, max_cat_to_onehot=4, max_delta_step=0,\n",
      "             max_depth=6, max_leaves=0, min_child_weight=1, missing=nan,\n",
      "             monotone_constraints='()', n_estimators=100, n_jobs=0,\n",
      "             num_parallel_tree=1, predictor='auto', random_state=0, ...) model on Testing Data is: 47.94064940895043\n"
     ]
    }
   ],
   "source": [
    "#XGBRegressor Model\n",
    "model_prediction(XGBRegressor())"
   ]
  },
  {
   "cell_type": "code",
   "execution_count": 181,
   "id": "f1a51657",
   "metadata": {},
   "outputs": [
    {
     "ename": "ModuleNotFoundError",
     "evalue": "No module named 'catboost'",
     "output_type": "error",
     "traceback": [
      "\u001b[1;31m---------------------------------------------------------------------------\u001b[0m",
      "\u001b[1;31mModuleNotFoundError\u001b[0m                       Traceback (most recent call last)",
      "Input \u001b[1;32mIn [181]\u001b[0m, in \u001b[0;36m<cell line: 2>\u001b[1;34m()\u001b[0m\n\u001b[0;32m      1\u001b[0m \u001b[38;5;66;03m#Cat-Boost-Regressor Model\u001b[39;00m\n\u001b[1;32m----> 2\u001b[0m \u001b[38;5;28;01mfrom\u001b[39;00m \u001b[38;5;21;01mcatboost\u001b[39;00m \u001b[38;5;28;01mimport\u001b[39;00m CatBoostRegressor\n\u001b[0;32m      3\u001b[0m model_prediction(CatBoostRegressor(verbose\u001b[38;5;241m=\u001b[39m\u001b[38;5;28;01mFalse\u001b[39;00m))\n",
      "\u001b[1;31mModuleNotFoundError\u001b[0m: No module named 'catboost'"
     ]
    }
   ],
   "source": [
    "#Cat-Boost-Regressor Model\n",
    "from catboost import CatBoostRegressor\n",
    "model_prediction(CatBoostRegressor(verbose=False))"
   ]
  },
  {
   "cell_type": "markdown",
   "id": "883004d4",
   "metadata": {},
   "source": [
    "## All Model Performance Comparison"
   ]
  },
  {
   "cell_type": "code",
   "execution_count": 183,
   "id": "6887b911",
   "metadata": {},
   "outputs": [],
   "source": [
    "models = [\"Linear Regression\",\"Decision Tree\",\n",
    "          \"Random Forest\",\"Ada Boost\",\"Gradient Boost\",\"LGBM\",\"XGBoost\",\"CatBoost\"]"
   ]
  },
  {
   "cell_type": "code",
   "execution_count": null,
   "id": "cbb7bb66",
   "metadata": {},
   "outputs": [],
   "source": [
    "df_models = pd.DataFrame({\"Algorithms\":models,\n",
    "                   \"Training Score\":training_score,\n",
    "                   \"Testing Score\":testing_score})"
   ]
  },
  {
   "cell_type": "code",
   "execution_count": null,
   "id": "b9283aa9",
   "metadata": {},
   "outputs": [],
   "source": [
    "df_models"
   ]
  },
  {
   "cell_type": "code",
   "execution_count": null,
   "id": "06294d3e",
   "metadata": {},
   "outputs": [],
   "source": [
    "df.plot(x=\"Algorithms\",y=[\"Training Score\",\"Testing Score\"], figsize=(16,6),kind=\"bar\",\n",
    "        title=\"Performance Visualization of Different Models\",colormap=\"Set1\")\n",
    "plt.show()"
   ]
  },
  {
   "cell_type": "code",
   "execution_count": null,
   "id": "62bb93c6",
   "metadata": {},
   "outputs": [],
   "source": []
  },
  {
   "cell_type": "code",
   "execution_count": null,
   "id": "26ad5285",
   "metadata": {},
   "outputs": [],
   "source": []
  },
  {
   "cell_type": "code",
   "execution_count": null,
   "id": "28cc816b",
   "metadata": {},
   "outputs": [],
   "source": [
    
   ]
  }
 ],
 "metadata": {
  "kernelspec": {
   "display_name": "Python 3 (ipykernel)",
   "language": "python",
   "name": "python3"
  },
  "language_info": {
   "codemirror_mode": {
    "name": "ipython",
    "version": 3
   },
   "file_extension": ".py",
   "mimetype": "text/x-python",
   "name": "python",
   "nbconvert_exporter": "python",
   "pygments_lexer": "ipython3",
   "version": "3.9.12"
  },
  "latex_envs": {
   "LaTeX_envs_menu_present": true,
   "autoclose": false,
   "autocomplete": true,
   "bibliofile": "biblio.bib",
   "cite_by": "apalike",
   "current_citInitial": 1,
   "eqLabelWithNumbers": true,
   "eqNumInitial": 1,
   "hotkeys": {
    "equation": "Ctrl-E",
    "itemize": "Ctrl-I"
   },
   "labels_anchors": false,
   "latex_user_defs": false,
   "report_style_numbering": false,
   "user_envs_cfg": false
  },
  "toc": {
   "base_numbering": 1,
   "nav_menu": {},
   "number_sections": true,
   "sideBar": true,
   "skip_h1_title": false,
   "title_cell": "Table of Contents",
   "title_sidebar": "Contents",
   "toc_cell": false,
   "toc_position": {
    "height": "calc(100% - 180px)",
    "left": "10px",
    "top": "150px",
    "width": "256px"
   },
   "toc_section_display": true,
   "toc_window_display": true
  }
 },
 "nbformat": 4,
 "nbformat_minor": 5
}
